{
 "cells": [
  {
   "cell_type": "code",
   "execution_count": null,
   "id": "7f5a3602",
   "metadata": {},
   "outputs": [],
   "source": [
    "# packages and libraries required for RL"
   ]
  },
  {
   "cell_type": "code",
   "execution_count": null,
   "id": "23d7fe17",
   "metadata": {},
   "outputs": [],
   "source": [
    "\n",
    "PyTorch: \n",
    "    https://pytorch.org/"
   ]
  },
  {
   "cell_type": "code",
   "execution_count": null,
   "id": "60326061",
   "metadata": {},
   "outputs": [],
   "source": [
    "\n",
    "\n",
    "Stable Baselines 3: \n",
    "    https://stable-baselines3.readthedocs.io/en/master/\n",
    "\n",
    "#agents\n",
    "#models\n",
    "#policy\n"
   ]
  },
  {
   "cell_type": "code",
   "execution_count": null,
   "id": "5f119bb3",
   "metadata": {},
   "outputs": [],
   "source": [
    "\n",
    "OpenAI Gym: \n",
    "    https://gym.openai.com/"
   ]
  },
  {
   "cell_type": "code",
   "execution_count": null,
   "id": "97859465",
   "metadata": {},
   "outputs": [],
   "source": [
    "Gymnasium\n"
   ]
  },
  {
   "cell_type": "code",
   "execution_count": null,
   "id": "593a3350",
   "metadata": {},
   "outputs": [],
   "source": [
    "Swig: \n",
    "    \n",
    "    http://www.swig.org/Doc1.3/Windows.html\n",
    "    https://www.swig.org/download.html"
   ]
  },
  {
   "cell_type": "code",
   "execution_count": null,
   "id": "9603d7aa",
   "metadata": {},
   "outputs": [],
   "source": [
    "\n",
    "Atarimania ROMs: \n",
    "    http://www.atarimania.com/roms/Roms.rar\n",
    "\n",
    "#emulation"
   ]
  },
  {
   "cell_type": "markdown",
   "id": "be993583",
   "metadata": {},
   "source": [
    "# -----------------------------------------------------------------"
   ]
  },
  {
   "cell_type": "markdown",
   "id": "1aa46996",
   "metadata": {},
   "source": [
    "# some advance RL models"
   ]
  },
  {
   "cell_type": "code",
   "execution_count": null,
   "id": "d3676c2a",
   "metadata": {},
   "outputs": [],
   "source": [
    "Deep RL\n",
    "\n",
    "DQN\n",
    "Gated DQN (with GRU)"
   ]
  },
  {
   "cell_type": "code",
   "execution_count": null,
   "id": "973fda10",
   "metadata": {},
   "outputs": [],
   "source": [
    "Actor Critic RL\n",
    "\n",
    "A2C vs A3C\n"
   ]
  },
  {
   "cell_type": "code",
   "execution_count": null,
   "id": "e70b3563",
   "metadata": {},
   "outputs": [],
   "source": [
    "DDPG\n",
    "\n",
    "deep deterministic policy gradient (DDPG) algorithm"
   ]
  },
  {
   "cell_type": "code",
   "execution_count": null,
   "id": "eec37a11",
   "metadata": {},
   "outputs": [],
   "source": []
  }
 ],
 "metadata": {
  "kernelspec": {
   "display_name": "Python 3 (ipykernel)",
   "language": "python",
   "name": "python3"
  },
  "language_info": {
   "codemirror_mode": {
    "name": "ipython",
    "version": 3
   },
   "file_extension": ".py",
   "mimetype": "text/x-python",
   "name": "python",
   "nbconvert_exporter": "python",
   "pygments_lexer": "ipython3",
   "version": "3.9.16"
  }
 },
 "nbformat": 4,
 "nbformat_minor": 5
}
