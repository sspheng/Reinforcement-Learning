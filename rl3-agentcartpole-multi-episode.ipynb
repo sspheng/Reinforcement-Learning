{
 "cells": [
  {
   "cell_type": "markdown",
   "id": "a36cc25f",
   "metadata": {},
   "source": [
    "# Reinforcement Learning Tutorial"
   ]
  },
  {
   "cell_type": "code",
   "execution_count": 7,
   "id": "72f1a07d",
   "metadata": {},
   "outputs": [],
   "source": [
    "\n",
    "\n",
    "import gym\n",
    "\n",
    "import numpy as np\n",
    "\n",
    "import matplotlib.pyplot as plt\n",
    "\n"
   ]
  },
  {
   "cell_type": "code",
   "execution_count": null,
   "id": "d52d4caa",
   "metadata": {},
   "outputs": [],
   "source": []
  },
  {
   "cell_type": "code",
   "execution_count": null,
   "id": "8de169ba",
   "metadata": {},
   "outputs": [],
   "source": []
  },
  {
   "cell_type": "code",
   "execution_count": 2,
   "id": "ee54d076",
   "metadata": {},
   "outputs": [],
   "source": [
    "\n",
    "# AGENT\n",
    "\n",
    "def get_action(s, w):\n",
    "  return 1 if s.dot(w) > 0 else 0\n",
    "\n",
    "\n"
   ]
  },
  {
   "cell_type": "code",
   "execution_count": 12,
   "id": "49962380",
   "metadata": {},
   "outputs": [],
   "source": [
    "# dummy agent\n",
    "\n",
    "def get_action(s):\n",
    "  return 1 \n",
    "\n"
   ]
  },
  {
   "cell_type": "markdown",
   "id": "113fe99d",
   "metadata": {},
   "source": [
    "# ======================================================"
   ]
  },
  {
   "cell_type": "markdown",
   "id": "5cf6c372",
   "metadata": {},
   "source": [
    "# environment buidling "
   ]
  },
  {
   "cell_type": "code",
   "execution_count": 8,
   "id": "7240a297",
   "metadata": {},
   "outputs": [
    {
     "data": {
      "text/plain": [
       "<TimeLimit<OrderEnforcing<PassiveEnvChecker<CartPoleEnv<CartPole-v0>>>>>"
      ]
     },
     "execution_count": 8,
     "metadata": {},
     "output_type": "execute_result"
    }
   ],
   "source": [
    "env = gym.make('CartPole-v0')\n",
    "env"
   ]
  },
  {
   "cell_type": "code",
   "execution_count": 9,
   "id": "7cbe4620",
   "metadata": {},
   "outputs": [
    {
     "data": {
      "text/plain": [
       "<TimeLimit<OrderEnforcing<PassiveEnvChecker<CartPoleEnv<CartPole-v0>>>>>"
      ]
     },
     "execution_count": 9,
     "metadata": {},
     "output_type": "execute_result"
    }
   ],
   "source": [
    "env"
   ]
  },
  {
   "cell_type": "code",
   "execution_count": 10,
   "id": "d623e6a2",
   "metadata": {},
   "outputs": [
    {
     "data": {
      "text/plain": [
       "(array([-0.03683911, -0.0100863 , -0.04564682, -0.00231409], dtype=float32),\n",
       " {})"
      ]
     },
     "execution_count": 10,
     "metadata": {},
     "output_type": "execute_result"
    }
   ],
   "source": [
    "observation = env.reset()\n",
    "\n",
    "observation\n"
   ]
  },
  {
   "cell_type": "code",
   "execution_count": 13,
   "id": "82f2c1b1",
   "metadata": {},
   "outputs": [
    {
     "data": {
      "text/plain": [
       "1"
      ]
     },
     "execution_count": 13,
     "metadata": {},
     "output_type": "execute_result"
    }
   ],
   "source": [
    "get_action(observation)"
   ]
  },
  {
   "cell_type": "markdown",
   "id": "07c20671",
   "metadata": {},
   "source": [
    "# actual code starts here"
   ]
  },
  {
   "cell_type": "code",
   "execution_count": null,
   "id": "9af1d16f",
   "metadata": {},
   "outputs": [],
   "source": []
  },
  {
   "cell_type": "code",
   "execution_count": 3,
   "id": "f7449f42",
   "metadata": {},
   "outputs": [],
   "source": [
    "\n",
    "def play_one_episode(env, params):\n",
    "    \n",
    "  observation = env.reset() #random\n",
    "  done = False\n",
    "  t = 0     #finite steps in an episode\n",
    "  r = 0\n",
    "\n",
    "  while not done and t < 10000:  #steps\n",
    "    t += 1\n",
    "    action = get_action(observation, params)\n",
    "    # print(\"step number: \" , t, action)\n",
    "    observation, reward, done, info = env.step(action)\n",
    "    r += reward\n",
    "\n",
    "  return r\n"
   ]
  },
  {
   "cell_type": "code",
   "execution_count": 4,
   "id": "859c1832",
   "metadata": {},
   "outputs": [],
   "source": [
    "\n",
    "def play_multiple_episodes(env, T, params):\n",
    "  episode_rewards = np.empty(T)\n",
    "\n",
    "  for i in range(T):\n",
    "    episode_rewards[i] = play_one_episode(env, params)\n",
    "\n",
    "  avg_reward = episode_rewards.mean()\n",
    "  print(\"avg reward:\", avg_reward)\n",
    "  return avg_reward\n",
    "\n"
   ]
  },
  {
   "cell_type": "code",
   "execution_count": 5,
   "id": "8172751d",
   "metadata": {},
   "outputs": [],
   "source": [
    "\n",
    "def random_search(env):\n",
    "  episode_rewards = []\n",
    "  best = 0\n",
    "  params = None\n",
    "  for t in range(100):\n",
    "    new_params = np.random.random(4)*2 - 1\n",
    "    \n",
    "    avg_reward = play_multiple_episodes(env, 100, new_params)\n",
    "    \n",
    "    episode_rewards.append(avg_reward)\n",
    "\n",
    "    if avg_reward > best:\n",
    "      params = new_params\n",
    "      best = avg_reward\n",
    "  return episode_rewards, params\n",
    "\n"
   ]
  },
  {
   "cell_type": "markdown",
   "id": "9dbe5ab5",
   "metadata": {},
   "source": [
    "# execution starts here"
   ]
  },
  {
   "cell_type": "code",
   "execution_count": null,
   "id": "2056af42",
   "metadata": {},
   "outputs": [],
   "source": [
    "\n",
    "if __name__ == '__main__':\n",
    "    \n",
    "  env = gym.make('CartPole-v0')\n",
    "\n",
    "  episode_rewards, params = random_search(env)\n",
    "    \n",
    "  plt.plot(episode_rewards)\n",
    "  plt.show()\n",
    "\n",
    "  # play a final set of episodes\n",
    "  print(\"***Final run with final weights***\")\n",
    "  play_multiple_episodes(env, 100, params)\n",
    "\n",
    "\n",
    "\n",
    "\n",
    "\n",
    "\n",
    "\n",
    "\n",
    "\n",
    "\n",
    "\n"
   ]
  },
  {
   "cell_type": "code",
   "execution_count": null,
   "id": "3abbfd25",
   "metadata": {},
   "outputs": [],
   "source": []
  }
 ],
 "metadata": {
  "kernelspec": {
   "display_name": "Python 3 (ipykernel)",
   "language": "python",
   "name": "python3"
  },
  "language_info": {
   "codemirror_mode": {
    "name": "ipython",
    "version": 3
   },
   "file_extension": ".py",
   "mimetype": "text/x-python",
   "name": "python",
   "nbconvert_exporter": "python",
   "pygments_lexer": "ipython3",
   "version": "3.9.16"
  }
 },
 "nbformat": 4,
 "nbformat_minor": 5
}
